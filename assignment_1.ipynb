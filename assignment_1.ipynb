{
 "cells": [
  {
   "cell_type": "markdown",
   "source": [
    "# Assignment #1\n",
    "Riley Jackson<br>\n",
    "Dr. Antonio Bolufe-Rohler<br>\n",
    "February 25th, 2020<br>"
   ],
   "metadata": {
    "collapsed": false
   }
  },
  {
   "cell_type": "markdown",
   "source": [
    "## Chosen Dataset & Rational\n",
    "The dataset examined in this assignment is the 'Forest Fire' dataset provided by\n",
    "[Cortez and Morais, (2007)](https://repositorium.sdum.uminho.pt/handle/1822/8039).\n",
    "This dataset of 517 examples poses a challenging multi-variate regression task, where 4-8 meteorological features are used to\n",
    "predict the area (in Hectare) of forest burned in a day. These features are as follows:\n",
    "0. Fine Fuel Moisture Code\n",
    "1. Duff Moisture Code\n",
    "2. Drought Code\n",
    "3. Initial Spread Index\n",
    "4. Temperature (in Celsius)\n",
    "5. Relative Humidity (in percent)\n",
    "6. Wind (in Km/h)\n",
    "7. Rainfall (in mm/m<sup>2</sup>)\n",
    "\n",
    "Regression algorithms are of particular importance in machine learning (ML) due to their adaptability. Indeed, regressors\n",
    "are capable of predicting real, continuous values, but they may also be utilized for classification with minimal\n",
    "modification. Regressors also fit more naturally into the description of ML as the study of generalized\n",
    "function predictors, as one often thinks of a mathematical function as outputting a real value."
   ],
   "metadata": {
    "collapsed": false,
    "pycharm": {
     "name": "#%% md\n"
    }
   }
  },
  {
   "cell_type": "markdown",
   "source": [
    "## Loading, Sanitizing, & Visualizing the Data\n",
    "This dataset has several quirks which may influence both preprocessing and model selection. These include the\n",
    "difference in feature scales, the bias towards little to no area burned for each day, and the inclusion of some\n",
    "potentially irrelevant features. Before digging into these quirks, the data must first be loaded:"
   ],
   "metadata": {
    "collapsed": false,
    "pycharm": {
     "name": "#%% md\n"
    }
   }
  },
  {
   "cell_type": "code",
   "execution_count": 3,
   "outputs": [
    {
     "name": "stdout",
     "text": [
      "average area burned: 12.847292069632493\n",
      "average value of feature 0: 90.6446808510636\n",
      "average value of feature 1: 110.87234042553195\n",
      "average value of feature 2: 547.9400386847191\n",
      "average value of feature 3: 9.021663442940042\n",
      "average value of feature 4: 18.88916827852998\n",
      "average value of feature 5: 44.28820116054158\n",
      "average value of feature 6: 4.017601547388782\n",
      "average value of feature 7: 0.02166344294003869\n"
     ],
     "output_type": "stream"
    }
   ],
   "source": [
    "import numpy as np\n",
    "\n",
    "# Define a function for convenience and to avoid global state\n",
    "def get_data(first_feature: int = 4):\n",
    "    data = np.genfromtxt('forestfires.csv', delimiter=',')  # load from .csv\n",
    "    x = data[1:, first_feature:12]  # The .csv also contains location and time data, which is irrelevant to the prediction task\n",
    "    y = data[1:, 12]\n",
    "\n",
    "    return x, y\n",
    "\n",
    "def check_stats():\n",
    "    x, y = get_data()\n",
    "    print('average area burned: {}'.format(np.mean(y)))\n",
    "    [print('average value of feature {}: {}'.format(i, u)) for i, u in enumerate(np.mean(x, axis=0))]\n",
    "\n",
    "check_stats()"
   ],
   "metadata": {
    "collapsed": false,
    "pycharm": {
     "name": "#%%\n",
     "is_executing": false
    }
   }
  },
  {
   "cell_type": "markdown",
   "source": [
    "When looking at the average values of our features and our targets, the need for normalization is quite obvious.\n",
    "Feature 1 has an average value of **~110**, while feature 7 has an average of **~0.02**. To make the prediction\n",
    "task easier for our models, we can *normalize* our data."
   ],
   "metadata": {
    "collapsed": false,
    "pycharm": {
     "name": "#%% md\n"
    }
   }
  },
  {
   "cell_type": "markdown",
   "source": [
    "Since this is a high dimensional dataset, it's quite difficult to visualize the data directly. We could attempt to\n",
    "select only 1 - 2 features for plotting against our y value, but that leaves us with several different possible\n",
    "plots. More effective is the use of dimensional reduction through **Principle Component Analysis** (PCA)\n",
    "to project our data into a 2D or 3D space:"
   ],
   "metadata": {
    "collapsed": false,
    "pycharm": {
     "name": "#%% md\n"
    }
   }
  },
  {
   "cell_type": "code",
   "execution_count": 4,
   "outputs": [
    {
     "data": {
      "text/plain": "<Figure size 720x720 with 1 Axes>",
      "image/png": "[encoded data removed]"
     },
     "metadata": {
      "needs_background": "light"
     },
     "output_type": "display_data"
    },
    {
     "name": "stdout",
     "text": [
      "Total Variance ratio for PCA projection into R^1 space: 0.9626379470674843\n"
     ],
     "output_type": "stream"
    }
   ],
   "source": [
    "from mpl_toolkits.mplot3d import Axes3D  # Require for matplotlib to plot in 3D\n",
    "from sklearn.decomposition import PCA\n",
    "import matplotlib.pyplot as plt\n",
    "\n",
    "def two_d_plot(fig, i, j):\n",
    "    axis: plt.Axes = fig.add_subplot()\n",
    "    axis.scatter(i, j)\n",
    "    axis.set_xlabel('Principle Component')\n",
    "    axis.set_ylabel('Area Burned')\n",
    "\n",
    "def three_d_plot(fig, i, j, k):\n",
    "    axis: plt.Axes = fig.add_subplot(111, projection='3d')\n",
    "    axis.scatter(i, j, k,\n",
    "    )\n",
    "    axis.set_xlabel('Principle Component 1')\n",
    "    axis.set_ylabel('Principle Component 2')\n",
    "    axis.set_zlabel('Area Burned')\n",
    "\n",
    "def plot_pca():\n",
    "    x, y = get_data()\n",
    "    n_components = 1  # Change this value to 2 to view a 3D plot\n",
    "    pca = PCA(n_components=n_components)\n",
    "    components = np.expand_dims(pca.fit_transform(x), axis=-1)  # (M, N, 1)\n",
    "\n",
    "    fig = plt.figure(figsize=[10, 10])\n",
    "    if n_components == 1:\n",
    "        two_d_plot(fig, components, y)\n",
    "    elif n_components == 2:\n",
    "        three_d_plot(fig, components[:, 0], components[:, 1], y)\n",
    "\n",
    "    plt.show()\n",
    "\n",
    "    print('Total Variance ratio for PCA projection into R^{} space: {}'.format(\n",
    "        n_components, np.sum(pca.explained_variance_ratio_)\n",
    "    ))\n",
    "\n",
    "plot_pca()"
   ],
   "metadata": {
    "collapsed": false,
    "pycharm": {
     "name": "#%%\n",
     "is_executing": false
    }
   }
  },
  {
   "cell_type": "markdown",
   "source": [
    "PCA is very useful for visualization, because now a single dimension represents all 8 of the original dataset\n",
    "with a variance conservation of **~96%**. From the above plot we can see that our data is quite tightly packed\n",
    "with-respect-to our y values, but there do exists some outliers. We can assume any regressor we train will\n",
    "do poorly on these outliers as it will bias towards smaller areas. These handful of outliers and the overall\n",
    "small number of examples in the dataset suggests we should attempt to use k-folds cross validation. Otherwise, we\n",
    "run the risk of obtaining a static test split which varies greatly from our train split."
   ],
   "metadata": {
    "collapsed": false,
    "pycharm": {
     "name": "#%% md\n"
    }
   }
  },
  {
   "cell_type": "markdown",
   "source": [
    "## Model Selection & Evaluation\n",
    "Now that our data is fit for learning, we need to make decide which algorithms are applicable to our dataset. We can't\n",
    "be sure our dataset is either linear or non-linear, so we should begin with **linear regression** (LR). Also, since our\n",
    "targets are tightly packed, it may be beneficial to obtain compare our results to a 'mean predictor', which is a model\n",
    "which only ever predicts the mean value of y. This provides us an sort of *upper bound* to our predictions, so we\n",
    "know when a model is performing well."
   ],
   "metadata": {
    "collapsed": false,
    "pycharm": {
     "name": "#%% md\n"
    }
   }
  },
  {
   "cell_type": "markdown",
   "source": [
    "LR has a **convex** loss landscape, meaning we can obtain a true line of best fit. It will also\n",
    "let us know the degree of linearity in our data, and the parameters of the model can potentially give us some insight\n",
    "into which features are most important in the prediction task:"
   ],
   "metadata": {
    "collapsed": false,
    "pycharm": {
     "name": "#%% md\n"
    }
   }
  },
  {
   "cell_type": "code",
   "execution_count": 5,
   "outputs": [
    {
     "name": "stdout",
     "text": [
      "CV TRAIN MAE for LR: 19.247269660445614\n",
      "CV TEST MAE for LR: 21.020804726378245\n",
      "Mean Predictor MAE: 18.566830958251177\n",
      "Param for feature 0: -0.029429883920658102\n",
      "Param for feature 1: 0.05999250030608885\n",
      "Param for feature 2: -0.0004943516814239611\n",
      "Param for feature 3: -1.0100044550537683\n",
      "Param for feature 4: 0.9560307654797862\n",
      "Param for feature 5: -0.29647143355574784\n",
      "Param for feature 6: 2.0512882238202885\n",
      "Param for feature 7: -2.6494255844916923\n"
     ],
     "output_type": "stream"
    }
   ],
   "source": [
    "from sklearn.linear_model import LinearRegression\n",
    "from sklearn.model_selection import cross_validate\n",
    "from sklearn.metrics import mean_absolute_error\n",
    "from functools import partial\n",
    "\n",
    "cross_validate = partial(\n",
    "    cross_validate,\n",
    "    scoring='neg_mean_absolute_error',\n",
    "    cv=5,\n",
    "    return_train_score=True,\n",
    "    return_estimator=True\n",
    ")\n",
    "\n",
    "def mean_predictor_mae():\n",
    "    _, y = get_data()\n",
    "    y_pred = np.empty_like(y)\n",
    "    y_pred[:] = np.mean(y)\n",
    "    return mean_absolute_error(y, y_pred)\n",
    "\n",
    "def mean_results(results):\n",
    "    return np.mean(\n",
    "        np.absolute(\n",
    "            results\n",
    "        )\n",
    "    )\n",
    "\n",
    "def print_regressor_results(results, name='model'):\n",
    "    print('CV TRAIN MAE for {}: {}'.format(name, mean_results(results['train_score'])))\n",
    "    print('CV TEST MAE for {}: {}'.format(name, mean_results(results['test_score'])))\n",
    "\n",
    "def evaluate_linear_regression():\n",
    "    x, y = get_data()\n",
    "    results = cross_validate(\n",
    "        LinearRegression(normalize=True),\n",
    "        x,\n",
    "        y\n",
    "    )\n",
    "    print_regressor_results(results, 'LR')\n",
    "    print('Mean Predictor MAE: {}'.format(mean_predictor_mae()))\n",
    "    [print('Param for feature {}: {}'.format(i, p)) for i, p in enumerate(results['estimator'][0].coef_)]\n",
    "\n",
    "evaluate_linear_regression()"
   ],
   "metadata": {
    "collapsed": false,
    "pycharm": {
     "name": "#%%\n",
     "is_executing": false
    }
   }
  },
  {
   "cell_type": "markdown",
   "source": [
    "We can see from the above results that LR performs worse than a simple mean predictor, and we observe a slight\n",
    "difference between train and test results. This is likely due to the test set not being reflective of the train\n",
    "set, but it may also indicate **overfitting**. It's always worth adding some **regularization** to combat overfitting,\n",
    "so we can make note of that when deciding on our next model. Also, it may be likely that the dataset is non-linear,\n",
    "so we should attempt to fit a **non-linear** model. Lastly, as suggested by the authors of this dataset, the parameters\n",
    "for features 0 - 2 are quite **small**, suggesting they are less important in the prediction task.\n",
    "It may be beneficial to only make predictions using **features 3 - 7** moving forward."
   ],
   "metadata": {
    "collapsed": false,
    "pycharm": {
     "name": "#%% md\n"
    }
   }
  },
  {
   "cell_type": "markdown",
   "source": [
    "We'll begin by testing the **feature selection** of features 3 - 7 only:"
   ],
   "metadata": {
    "collapsed": false,
    "pycharm": {
     "name": "#%% md\n"
    }
   }
  },
  {
   "cell_type": "code",
   "execution_count": 6,
   "outputs": [
    {
     "name": "stdout",
     "text": [
      "CV TRAIN MAE for LR: 19.06048325052673\n",
      "CV TEST MAE for LR: 20.395378491493904\n"
     ],
     "output_type": "stream"
    }
   ],
   "source": [
    "def evaluate_linear_regression_with_feature_selection():\n",
    "    x, y = get_data(first_feature=8)  # Select elements [8 - 12) of .csv rows\n",
    "    results = cross_validate(\n",
    "        LinearRegression(normalize=True),\n",
    "        x,\n",
    "        y\n",
    "    )\n",
    "    print_regressor_results(results, 'LR')\n",
    "\n",
    "evaluate_linear_regression_with_feature_selection()"
   ],
   "metadata": {
    "collapsed": false,
    "pycharm": {
     "name": "#%%\n",
     "is_executing": false
    }
   }
  },
  {
   "cell_type": "markdown",
   "source": [
    "We observe slightly better results, although very minor."
   ],
   "metadata": {
    "collapsed": false,
    "pycharm": {
     "name": "#%% md\n"
    }
   }
  },
  {
   "cell_type": "markdown",
   "source": [
    "Since we didn't observe a significant difference in the test/train errors, we'll next test out a non-linear model.\n",
    "The most simple example of this is a polynomial regressor:"
   ],
   "metadata": {
    "collapsed": false,
    "pycharm": {
     "name": "#%% md\n"
    }
   }
  },
  {
   "cell_type": "code",
   "execution_count": 7,
   "outputs": [
    {
     "name": "stdout",
     "text": [
      "CV TRAIN MAE for Poly LR with degree 2: 18.753777239557742\n",
      "CV TEST MAE for Poly LR with degree 2: 21.564333481864704\n",
      "CV TRAIN MAE for Poly LR with degree 4: 19.093717511253264\n",
      "CV TEST MAE for Poly LR with degree 4: 24.904667911903637\n",
      "CV TRAIN MAE for Poly LR with degree 8: 22.542648791757408\n",
      "CV TEST MAE for Poly LR with degree 8: 110114.34251892597\n"
     ],
     "output_type": "stream"
    }
   ],
   "source": [
    "from sklearn.pipeline import Pipeline\n",
    "from sklearn.preprocessing import PolynomialFeatures\n",
    "\n",
    "def evaluate_polynomial_regressor():\n",
    "    x, y = get_data(8)\n",
    "    for degree in [2, 4, 8]:\n",
    "        model = Pipeline([\n",
    "            ('poly', PolynomialFeatures(degree=degree)),\n",
    "            ('regressor', LinearRegression(False, normalize=True))\n",
    "        ])\n",
    "        results = cross_validate(\n",
    "            model,\n",
    "            x,\n",
    "            y\n",
    "        )\n",
    "        print_regressor_results(results, 'Poly LR with degree {}'.format(degree))\n",
    "\n",
    "evaluate_polynomial_regressor()"
   ],
   "metadata": {
    "collapsed": false,
    "pycharm": {
     "name": "#%%\n",
     "is_executing": false
    }
   }
  },
  {
   "cell_type": "markdown",
   "source": [
    "As we increase the degree of the polynomial, we observe *severe* overfitting. We also notice a slight decrease in\n",
    "performance on the training set. A polynomial regressor is likely not optimal for this prediction task, something\n",
    "we could have anticipated. Non-linear regressors are very susceptible for overfitting at high polynomial degrees. Also,\n",
    "their cost landscapes are *non-convex*, meaning they must be minimized using iterative methods, e.g. by\n",
    "gradient descent. Non-convex functions also denote the presence of **local minima**, so polynomial regressors\n",
    "can be somewhat unstable. There do exist other ML algorithms for learning on non-linear data more fit for this\n",
    "task that we shall discuss next."
   ],
   "metadata": {
    "collapsed": false,
    "pycharm": {
     "name": "#%% md\n"
    }
   }
  },
  {
   "cell_type": "markdown",
   "source": [
    "From the LR and polynomial regressors we previously studied we observed two major requirements from our model:\n",
    "1. We need to utilize some amount of **regularization** to ensure we don't overfit our data\n",
    "2. We should try another form of **non-linear** fitting\n",
    "\n",
    "A class of models that fit these two requirements are the **kernel ridge regressors** (KRR). KRRs utilize the\n",
    "kernel trick of transforming our data into a new, potentially linear space, and they also employ l2-regularization\n",
    "for combatting overfitting. Unlike LR, they also have an ample amount of hyperparameters that can be tuned\n",
    "to squeeze out as much performance as possible. `sklearn` has an easily tunable KRR class we can attempt\n",
    "to fit to our dataset:"
   ],
   "metadata": {
    "collapsed": false,
    "pycharm": {
     "name": "#%% md\n"
    }
   }
  },
  {
   "cell_type": "code",
   "execution_count": 8,
   "outputs": [
    {
     "name": "stdout",
     "text": [
      "Best model params: {'alpha': 100, 'gamma': 100, 'kernel': 'rbf'}\n",
      "CV TRAIN MAE for Best KRR: 12.720311064523774\n",
      "CV TEST MAE for Best KRR: 12.893793113959635\n",
      "Worst model params: {'alpha': 0.1, 'gamma': 0.1, 'kernel': 'rbf'}\n",
      "CV TRAIN MAE for Worst KRR: 12.771171662255437\n",
      "CV TEST MAE for Worst KRR: 27.4289639492486\n"
     ],
     "output_type": "stream"
    }
   ],
   "source": [
    "from sklearn.kernel_ridge import KernelRidge\n",
    "from sklearn.model_selection import GridSearchCV\n",
    "\n",
    "def evaluate_krr():\n",
    "    x, y = get_data(first_feature=8)  # Select elements [8 - 12) of .csv rows\n",
    "    search_space = {  # 16 total models\n",
    "        'alpha': [0.1, 1, 10, 100],  # alpha = lambda / 2, where lambda is the level of regularization used\n",
    "        'kernel': ['rbf'],  # linear doesn't transform the space, rbf uses a Gaussian kernel\n",
    "        'gamma': [0.1, 1, 10, 100]  # Width of the Gaussian, denotes the amount of influence each example has in the transformation\n",
    "    }\n",
    "    model = GridSearchCV(\n",
    "        KernelRidge(),\n",
    "        search_space,\n",
    "        scoring='neg_mean_absolute_error',\n",
    "        cv=5,\n",
    "        return_train_score=True\n",
    "    )\n",
    "    model = model.fit(x, y)\n",
    "    print('Best model params: {}'.format(model.best_params_))\n",
    "    results = cross_validate(model.best_estimator_, x, y)\n",
    "    print_regressor_results(results, 'Best KRR')\n",
    "\n",
    "    worst_params = model.cv_results_['params'][0]\n",
    "    worst_results = cross_validate(KernelRidge(**worst_params), x, y)\n",
    "    print('Worst model params: {}'.format(worst_params))\n",
    "    print_regressor_results(worst_results, 'Worst KRR')\n",
    "\n",
    "\n",
    "evaluate_krr()"
   ],
   "metadata": {
    "collapsed": false,
    "pycharm": {
     "name": "#%%\n",
     "is_executing": false
    }
   }
  },
  {
   "cell_type": "markdown",
   "source": [
    "KRR performs very well on this dataset, obtaining the lowest MAE values tested yet. This error, **12.89 Ha**,\n",
    "is very close to the  **12.72 Ha** value obtained by the model proposed by the original authors, Cortez and Morais. They utilized\n",
    "**support vector regression** (SVR), a modified SVM designed for regression tasks.\n",
    "SVR and KRR are almost identical, as they both utilized l2-regularization and the kernel trick. Their major difference\n",
    "is their cost functions; KRR uses mean squared error, while SVR uses the hinge loss."
   ],
   "metadata": {
    "collapsed": false
   }
  },
  {
   "cell_type": "markdown",
   "source": [
    "SVR and KRR often converge to similar results, so it is possible that the **0.17 Ha** difference in performance\n",
    "is due to the relatively small size of our KRR search space. This small search space was chosen to\n",
    "conserve computational time and resources while still demonstrating the possible spread of model performance.\n",
    "As we can see, our worst performing KRR model still performs quite well on the *train set*, but we can see that\n",
    "it has overfit our data quite significantly. Since $\\alpha \\propto \\lambda$, where lambda controls the level of\n",
    "regularization utilized when training the model, the performance of the worst model makes sense when we view its\n",
    "parameters, as $\\alpha = 0.1$."
   ],
   "metadata": {
    "collapsed": false,
    "pycharm": {
     "name": "#%% md\n"
    }
   }
  },
  {
   "cell_type": "markdown",
   "source": [
    "Lastly, we should attempt to understand the bias of our best KRR model. From our PCA plot, we suspected that our models\n",
    "will perform poorly on examples with a large area burned. We can confirm this by sorting our model's predictions\n",
    "by the largest errors view the examples that produced these errors:"
   ],
   "metadata": {
    "collapsed": false,
    "pycharm": {
     "name": "#%% md\n"
    }
   }
  },
  {
   "cell_type": "code",
   "execution_count": 41,
   "outputs": [
    {
     "name": "stdout",
     "text": [
      "[746.28 174.63 43.32 40.54 31.72 30.32 30.18 28.19 27.35 24.23 16.33 15.34\n",
      " 14.29 13.70 11.32 11.24 11.22 10.02 9.96 9.41 8.68 8.24 8.00 7.80 7.36\n",
      " 6.96 6.84 6.83 6.61 6.36 6.30 6.10 5.80 5.55 3.93 3.19 3.05 2.87 2.74\n",
      " 2.69 2.57 2.44 2.29 2.18 2.14 2.01 2.00 1.94 1.63 1.63 1.46 1.36 1.26\n",
      " 1.07 0.95 1.01 0.72 0.71 0.54 0.33 0.00 0.00 0.00 0.00 0.00 0.00 0.00\n",
      " 0.00 0.00 0.00 0.00 0.00 0.00 0.00 0.00 0.00 0.00 0.00 0.00 0.00 0.00\n",
      " 0.00 0.00 0.00 0.00 0.00 0.00 0.00 0.00 0.00 0.00 0.00 0.00 0.00 0.00\n",
      " 0.00 0.00 0.00 0.00 0.00 0.00 0.00 0.00 0.00 0.00 0.00 0.00 0.00 0.00\n",
      " 0.00 0.00 0.00 0.00 0.00 0.00 0.00 0.00 0.00 0.00 0.00 0.00 0.00 0.00\n",
      " 0.00 0.00 0.00 0.00 0.00 0.00 0.00]\n"
     ],
     "output_type": "stream"
    }
   ],
   "source": [
    "from sklearn.model_selection import train_test_split\n",
    "\n",
    "def check_worst_examples():\n",
    "    x, y = get_data(8)\n",
    "    model = KernelRidge(alpha=100, kernel='rbf', gamma=100)\n",
    "    x_train, x_test, y_train, y_test = train_test_split(x, y)\n",
    "    model.fit(x_train, y_train)\n",
    "    y_pred = model.predict(x_test)\n",
    "    worst_examples = np.argsort(np.absolute(y_test - y_pred))[::-1]  # Sort in descending order\n",
    "    np.set_printoptions(formatter={'float': lambda l: \"{0:0.2f}\".format(l)})  # Ensure not to print in scientific not.\n",
    "    print(y_test[worst_examples])\n",
    "\n",
    "check_worst_examples()"
   ],
   "metadata": {
    "collapsed": false,
    "pycharm": {
     "name": "#%%\n",
     "is_executing": false
    }
   }
  },
  {
   "cell_type": "markdown",
   "source": [
    "The largest values **always** appear at the top of our array sorted by worst performance, even if the train set\n",
    "contains a large amount of high valued y's. This confirms our suspicions that our best model is biased towards\n",
    "predicting smaller burn areas."
   ],
   "metadata": {
    "collapsed": false,
    "pycharm": {
     "name": "#%% md\n"
    }
   }
  },
  {
   "cell_type": "markdown",
   "source": [
    "From the three model types tests, we can suggest that the Forest Fire dataset is a non-trivial prediction task.\n",
    "The data appears to be non-linear, as evidented by the increase in performance when applying the kernel trick\n",
    "with KRR. Also, a number of features seem to be irrelevant to the prediction task. These irrelevant features\n",
    "are the first four features of the dataset:\n",
    "\n",
    "0. Fine Fuel Moisture Code\n",
    "1. Duff Moisture Code\n",
    "2. Drought Code\n",
    "3. Initial Spread Index\n",
    "\n",
    "While the relevant features are:\n",
    "\n",
    "4. Temperature (in Celsius)\n",
    "5. Relative Humidity (in percent)\n",
    "6. Wind (in Km/h)\n",
    "7. Rainfall (in mm/m<sup>2</sup>)\n",
    "\n",
    "This suggests that with only meteorological data one can predict the burned area of a forest within a reasonable error\n",
    "margin of $\\pm13$ Hectare. However, our models are not without bias. Since the Forest Fire dataset is skewed towards\n",
    "smaller burn areas, this is reflected in our model. A model is only as good as the data it is trained upon, so it\n",
    "is likely this bias will be intrinsic to all models trained on this dataset.\n"
   ],
   "metadata": {
    "collapsed": false
   }
  }
 ],
 "metadata": {
  "kernelspec": {
   "display_name": "Python 3",
   "language": "python",
   "name": "python3"
  },
  "language_info": {
   "codemirror_mode": {
    "name": "ipython",
    "version": 2
   },
   "file_extension": ".py",
   "mimetype": "text/x-python",
   "name": "python",
   "nbconvert_exporter": "python",
   "pygments_lexer": "ipython2",
   "version": "2.7.6"
  },
  "pycharm": {
   "stem_cell": {
    "cell_type": "raw",
    "source": [],
    "metadata": {
     "collapsed": false
    }
   }
  }
 },
 "nbformat": 4,
 "nbformat_minor": 0
}