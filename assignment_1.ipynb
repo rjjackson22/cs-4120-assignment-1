{
 "cells": [
  {
   "cell_type": "markdown",
   "source": [
    "# Assignment #1\n",
    "Riley Jackson<br>\n",
    "Dr. Antonio Bolufe-Rohler<br>\n",
    "February 25th, 2020<br>"
   ],
   "metadata": {
    "collapsed": false
   }
  },
  {
   "cell_type": "code",
   "execution_count": 12,
   "outputs": [],
   "source": [
    "import numpy as np\n",
    "from sklearn.model_selection import train_test_split\n",
    "\n",
    "# First, we obtain the raw data\n",
    "data = np.genfromtxt('forestfires.csv', delimiter=',')\n",
    "x = data[1:, 4:12]  # (num_examples, features)\n",
    "y = data[1:, 12]  # (num_examples, )\n",
    "\n",
    "# ML works best with normalized values\n",
    "def normalize(array):\n",
    "    return (array - np.mean(array, axis=0)) / np.std(array, axis=0)\n",
    "\n",
    "\n",
    "x_normalized = normalize(x)\n",
    "y_normalized = normalize(y)\n",
    "\n",
    "# We should also split our dataset into a train/test split using sklearn functionality\n",
    "# Setting a proper split ratio is difficult. The more data one has, the smaller the test\n",
    "# fraction must be to be representative of the population. However, a model which trains\n",
    "# well on less data is more robust than a model requiring significantly more data, so\n",
    "# we'll keep the test fraction quite large for now\n",
    "x_train, x_test, y_train, y_test = train_test_split(x_normalized, y_normalized, test_size=0.30)"
   ],
   "metadata": {
    "collapsed": false,
    "pycharm": {
     "name": "#%%\n",
     "is_executing": false
    }
   }
  },
  {
   "cell_type": "code",
   "execution_count": 20,
   "outputs": [
    {
     "data": {
      "text/plain": "<Figure size 720x720 with 1 Axes>",
      "image/png": "[encoded data removed]"
     },
     "metadata": {
      "needs_background": "light"
     },
     "output_type": "display_data"
    },
    {
     "name": "stdout",
     "text": [
      "Total Variance ratio for PCA projection into R^1 space: 0.9626379470674833\n"
     ],
     "output_type": "stream"
    }
   ],
   "source": [
    "# As this is a highly dimensional dataset, it's difficult to visualize the data directly. We can select\n",
    "# specific dimensions to view, but we don't know which are important to the prediction task. Ideally, we\n",
    "# want only to 2 degrees of freedom for visualization. We can attempt to project our data into a visualizable space\n",
    "# using Principle Component Analysis (PCA)\n",
    "\n",
    "from mpl_toolkits.mplot3d import Axes3D  # Oh how I love (hate) matplotlib...\n",
    "from sklearn.decomposition import PCA\n",
    "import matplotlib.pyplot as plt\n",
    "\n",
    "def two_d_plot(i, j):\n",
    "    axis: plt.Axes = fig.add_subplot()\n",
    "    axis.scatter(i, j)\n",
    "    axis.set_xlabel('Principle Component')\n",
    "    axis.set_ylabel('Area Burned')\n",
    "\n",
    "def three_d_plot(i, j, k):\n",
    "    axis: plt.Axes = fig.add_subplot(111, projection='3d')\n",
    "    axis.scatter(i, j, k,\n",
    "    )\n",
    "    axis.set_xlabel('Principle Component 1')\n",
    "    axis.set_ylabel('Principle Component 2')\n",
    "    axis.set_zlabel('Area Burned')\n",
    "\n",
    "n_components = 1  # Change this value to 2 to view a 3D plot\n",
    "pca = PCA(n_components=n_components)\n",
    "components = np.expand_dims(pca.fit_transform(x), axis=-1)  # (M, N, 1)\n",
    "\n",
    "fig = plt.figure(figsize=[10, 10])\n",
    "if n_components == 1:\n",
    "    two_d_plot(components, y)\n",
    "elif n_components == 2:\n",
    "    three_d_plot(components[:, 0], components[:, 1], y)\n",
    "\n",
    "plt.show()\n",
    "\n",
    "print('Total Variance ratio for PCA projection into R^{} space: {}'.format(\n",
    "    n_components, np.sum(pca.explained_variance_ratio_)\n",
    "))"
   ],
   "metadata": {
    "collapsed": false,
    "pycharm": {
     "name": "#%%\n",
     "is_executing": false
    }
   }
  },
  {
   "cell_type": "markdown",
   "source": [
    "PCA is very useful for visualization, because now a single dimension represents all 8 of the original dataset\n",
    "with a variance conservation of **~96%**. From the above plot we can see that *most* of our data has an an area burned\n",
    "of around ${0\\:m^2}$. This may cause trouble with our chosen regressors as they will likely bias towards\n",
    "predictions of smaller areas. This plot also shows that the data seems to be non-linear, meaning that we'll likely have\n",
    "to map our data into a new space using a kernel."
   ],
   "metadata": {
    "collapsed": false,
    "pycharm": {
     "name": "#%% md\n"
    }
   }
  },
  {
   "cell_type": "code",
   "execution_count": null,
   "outputs": [],
   "source": [
    "# Once our data is normalized and ready to learn on, we need to select a model to test.\n"
   ],
   "metadata": {
    "collapsed": false,
    "pycharm": {
     "name": "#%%\n",
     "is_executing": false
    }
   }
  }
 ],
 "metadata": {
  "kernelspec": {
   "display_name": "Python 3",
   "language": "python",
   "name": "python3"
  },
  "language_info": {
   "codemirror_mode": {
    "name": "ipython",
    "version": 2
   },
   "file_extension": ".py",
   "mimetype": "text/x-python",
   "name": "python",
   "nbconvert_exporter": "python",
   "pygments_lexer": "ipython2",
   "version": "2.7.6"
  },
  "pycharm": {
   "stem_cell": {
    "cell_type": "raw",
    "source": [],
    "metadata": {
     "collapsed": false
    }
   }
  }
 },
 "nbformat": 4,
 "nbformat_minor": 0
}